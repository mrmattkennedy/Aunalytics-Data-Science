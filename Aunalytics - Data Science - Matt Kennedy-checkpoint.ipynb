{
 "cells": [
  {
   "cell_type": "markdown",
   "metadata": {},
   "source": [
    "### This is Matt Kennedy's submission for Aunalytics' Data Science Assessment.\n",
    "For this assessment, I decided to use 3 different approaches for classification:\n",
    "\n",
    "* Neural Network\n",
    "* Naive Bayes\n",
    "* Naive Bayes from scikit\n",
    "* SVM\n",
    "\n",
    "Before each approach, I will discuss why I chose that approach, the pros and cons to that algorithm, and I will discuss results and visualizations after each algorithm."
   ]
  },
  {
   "cell_type": "code",
   "execution_count": 1,
   "metadata": {},
   "outputs": [],
   "source": [
    "#Used for visualization\n",
    "import seaborn as sns\n",
    "import matplotlib.pyplot as plt\n",
    "from sklearn.metrics import plot_roc_curve, roc_curve, auc\n",
    "\n",
    "#Methods are used through this notebook\n",
    "\n",
    "#Loads train/test datasets\n",
    "def load_datasets():\n",
    "    \n",
    "    #First row is headers, so just simple import on the csv data using pandas\n",
    "    train_csv = pd.read_csv(\"au_train.csv\")\n",
    "    test_csv = pd.read_csv(\"au_test.csv\")\n",
    "\n",
    "    #Remove \"education\" column from each, as the next column is a numerical representation of it\n",
    "    train_csv.drop('education', axis=1, inplace=True)\n",
    "    test_csv.drop('education', axis=1, inplace=True)\n",
    "\n",
    "    #Remove period from last character in class for test cases\n",
    "    test_csv['class'] = test_csv['class'].str.replace('.', '')\n",
    "    \n",
    "    return train_csv, test_csv\n",
    "\n",
    "#Convert object columns to discrete numerical values\n",
    "def convert_to_discrete(ds):\n",
    "    for col in ds:\n",
    "        if ds[col].dtype == np.dtype('object'):\n",
    "            temp_col = pd.Categorical(ds[col])\n",
    "            temp_col = temp_col.codes\n",
    "            ds[col] = temp_col\n",
    "    \n",
    "    return ds\n",
    "\n",
    "#Plot ROC curve\n",
    "def show_roc_curve(fpr, tpr, roc_auc):\n",
    "    plt.figure()\n",
    "    lw = 2\n",
    "    plt.plot(fpr, tpr, color='darkorange',\n",
    "             lw=lw, label='ROC curve (area = %0.2f)' % roc_auc)\n",
    "    plt.plot([0, 1], [0, 1], color='navy', lw=lw, linestyle='--')\n",
    "    plt.xlim([0.0, 1.0])\n",
    "    plt.ylim([0.0, 1.05])\n",
    "    plt.xlabel('False Positive Rate')\n",
    "    plt.ylabel('True Positive Rate')\n",
    "    plt.title('Receiver operating characteristic')\n",
    "    plt.legend(loc=\"lower right\")\n",
    "    plt.show()\n",
    "    \n",
    "def create_confusion_matrix(preds, target):\n",
    "    #Creating confusion matrix for proportion\n",
    "    pred_no_act_no = 0\n",
    "    pred_no_act_yes = 0\n",
    "    pred_yes_act_no = 0\n",
    "    pred_yes_act_yes = 0\n",
    "\n",
    "    for i in range(len(preds)):\n",
    "        if np.argmax(preds[i]) == 0 and np.argmax(target[i]) == 0:\n",
    "            pred_no_act_no += 1\n",
    "        elif np.argmax(preds[i]) == 0 and np.argmax(target[i]) == 1:\n",
    "            pred_no_act_yes += 1\n",
    "        elif np.argmax(preds[i]) == 1 and np.argmax(target[i]) == 0:\n",
    "            pred_yes_act_no += 1\n",
    "        elif np.argmax(preds[i]) == 1 and np.argmax(target[i]) == 1:\n",
    "            pred_yes_act_yes += 1\n",
    "\n",
    "    cm = np.array([[pred_no_act_yes, pred_no_act_no], \n",
    "                   [pred_yes_act_yes, pred_yes_act_no]])\n",
    "    return sns.heatmap(cm, annot=True, xticklabels=[1, 0], yticklabels=[0, 1])"
   ]
  },
  {
   "cell_type": "markdown",
   "metadata": {},
   "source": [
    "### Neural Network\n",
    "#### Why I chose this algorithm\n",
    "Neural networks are increasingly popular in the world of data science and machine learning. They are excellent at recognizing patterns, and can work with vague or even incomplete data. For this dataset, with a high amount of variance with each feature, I believe a neural network would be great at identifying relationships\n",
    "#### Pros\n",
    "* Great pattern recognition capabilities\n",
    "* Hyperparameters can be customized to allow for flexibility\n",
    "* Datasets can be less complete than what is needed for other algorithms\n",
    "\n",
    "#### Cons\n",
    "* Computationally intensive\n",
    "* \"Black box\" method - not always clear what is going on in the neural network\n",
    "* Due to hyperparameters offering so much customization, hard to know exactly what is best with limited time\n",
    "\n",
    "#### Improvements that could be made to my implementation\n",
    "* Again, hyperparameters - performing hyperparameter optimization would be ideal, but with limited time, this solution works well enough.\n",
    "* Defining what type of neural network is best for this type of classification. There are many different types of networks, so spending time to find which is best could show improvements."
   ]
  },
  {
   "cell_type": "code",
   "execution_count": 2,
   "metadata": {},
   "outputs": [],
   "source": [
    "#Imports used for NN\n",
    "import pandas as pd\n",
    "import tensorflow as tf\n",
    "import numpy as np"
   ]
  },
  {
   "cell_type": "code",
   "execution_count": 3,
   "metadata": {},
   "outputs": [],
   "source": [
    "#Load and format data\n",
    "train_csv, test_csv = load_datasets()\n",
    "\n",
    "#Convert object columns to discrete numerical values\n",
    "train_csv = convert_to_discrete(train_csv)\n",
    "test_csv = convert_to_discrete(test_csv)"
   ]
  },
  {
   "cell_type": "code",
   "execution_count": 4,
   "metadata": {},
   "outputs": [
    {
     "name": "stdout",
     "output_type": "stream",
     "text": [
      "(16281, 2)\n"
     ]
    },
    {
     "data": {
      "text/plain": [
       "'\\n#Load train csv into tensor, then shuffle and create batches\\ntrain_dataset = tf.data.Dataset.from_tensor_slices((train_csv.values, train_y.values))\\ntrain_dataset = train_dataset.shuffle(len(train_csv)).batch(50)\\n\\n#Load test csv into tensor - need to create batch for evaluation function to work later\\ntest_dataset = tf.data.Dataset.from_tensor_slices(test_csv.values)\\ntest_dataset = test_dataset.batch(len(test_csv))\\n'"
      ]
     },
     "execution_count": 4,
     "metadata": {},
     "output_type": "execute_result"
    }
   ],
   "source": [
    "#Pop the class columns off each dataset to save as targets for each\n",
    "train_y = tf.one_hot(train_csv.pop('class').to_numpy(), 2).numpy()\n",
    "test_y = tf.one_hot(test_csv.pop('class').to_numpy(), 2).numpy()\n",
    "\n",
    "train_x = train_csv.to_numpy()\n",
    "test_x = test_csv.to_numpy()\n",
    "print(test_y.shape)\n",
    "\"\"\"\n",
    "#Load train csv into tensor, then shuffle and create batches\n",
    "train_dataset = tf.data.Dataset.from_tensor_slices((train_csv.values, train_y.values))\n",
    "train_dataset = train_dataset.shuffle(len(train_csv)).batch(50)\n",
    "\n",
    "#Load test csv into tensor - need to create batch for evaluation function to work later\n",
    "test_dataset = tf.data.Dataset.from_tensor_slices(test_csv.values)\n",
    "test_dataset = test_dataset.batch(len(test_csv))\n",
    "\"\"\""
   ]
  },
  {
   "cell_type": "code",
   "execution_count": 5,
   "metadata": {},
   "outputs": [],
   "source": [
    "#Create model, add 2 hidden layers with relu activation, and compile with adam optimizer\n",
    "model = tf.keras.Sequential([\n",
    "    tf.keras.layers.Dense(500, activation='sigmoid'),\n",
    "    tf.keras.layers.Dense(350, activation='sigmoid'),\n",
    "    tf.keras.layers.Dense(2, activation='softmax')\n",
    "])\n",
    "\n",
    "model.compile(optimizer='adam',\n",
    "    loss=tf.keras.losses.CategoricalCrossentropy(from_logits=True),\n",
    "    metrics=['accuracy'])"
   ]
  },
  {
   "cell_type": "code",
   "execution_count": 6,
   "metadata": {},
   "outputs": [
    {
     "name": "stdout",
     "output_type": "stream",
     "text": [
      "Epoch 1/5\n",
      "1018/1018 [==============================] - 1s 1ms/step - loss: 0.5503 - accuracy: 0.7629\n",
      "Epoch 2/5\n",
      "1018/1018 [==============================] - 1s 1ms/step - loss: 0.5474 - accuracy: 0.7660\n",
      "Epoch 3/5\n",
      "1018/1018 [==============================] - 1s 1ms/step - loss: 0.5420 - accuracy: 0.7717\n",
      "Epoch 4/5\n",
      "1018/1018 [==============================] - 1s 1ms/step - loss: 0.5411 - accuracy: 0.7723\n",
      "Epoch 5/5\n",
      "1018/1018 [==============================] - 1s 1ms/step - loss: 0.5496 - accuracy: 0.7637\n"
     ]
    },
    {
     "data": {
      "text/plain": [
       "<tensorflow.python.keras.callbacks.History at 0x1f95f182a60>"
      ]
     },
     "execution_count": 6,
     "metadata": {},
     "output_type": "execute_result"
    }
   ],
   "source": [
    "#Fit model with train dataset using 50 epochs\n",
    "model.fit(train_x, train_y, epochs=5, verbose=1)"
   ]
  },
  {
   "cell_type": "code",
   "execution_count": 7,
   "metadata": {},
   "outputs": [
    {
     "name": "stdout",
     "output_type": "stream",
     "text": [
      "509/509 [==============================] - 0s 529us/step - loss: 0.5439 - accuracy: 0.7694\n"
     ]
    },
    {
     "data": {
      "text/plain": [
       "[0.5438934564590454, 0.7693630456924438]"
      ]
     },
     "execution_count": 7,
     "metadata": {},
     "output_type": "execute_result"
    }
   ],
   "source": [
    "model.evaluate(test_x, test_y)"
   ]
  },
  {
   "cell_type": "code",
   "execution_count": 8,
   "metadata": {},
   "outputs": [
    {
     "data": {
      "image/png": "[encoded data removed]",
      "text/plain": [
       "<Figure size 432x288 with 1 Axes>"
      ]
     },
     "metadata": {
      "needs_background": "light"
     },
     "output_type": "display_data"
    }
   ],
   "source": [
    "preds = model.predict(test_x)\n",
    "fpr, tpr, _ = roc_curve(test_y.ravel(), preds.ravel())\n",
    "roc_auc = auc(fpr, tpr)\n",
    "show_roc_curve(fpr, tpr, roc_auc)"
   ]
  },
  {
   "cell_type": "code",
   "execution_count": 9,
   "metadata": {},
   "outputs": [
    {
     "data": {
      "text/plain": [
       "<matplotlib.axes._subplots.AxesSubplot at 0x1f9686c5df0>"
      ]
     },
     "execution_count": 9,
     "metadata": {},
     "output_type": "execute_result"
    },
    {
     "data": {
      "image/png": "[encoded data removed]",
      "text/plain": [
       "<Figure size 432x288 with 2 Axes>"
      ]
     },
     "metadata": {
      "needs_background": "light"
     },
     "output_type": "display_data"
    }
   ],
   "source": [
    "#Creating confusion matrix for proportion\n",
    "preds = np.where(preds < 0.5, 0, 1)\n",
    "create_confusion_matrix(preds, test_y)\n",
    "#cm = np.array([[pred_no_act_yes, pred_no_act_no], \n",
    "#                   [pred_yes_act_yes, pred_yes_act_no]])"
   ]
  },
  {
   "cell_type": "markdown",
   "metadata": {},
   "source": [
    "### Results of Neural Network\n",
    "#### Evaluation\n",
    "From cell 7, running the evaluate function on the model with the test dataset shows a loss of 0.5436, and an accuracy of \n",
    "#### ROC Curve\n",
    "As show above with the ROC curve, we have an AUC of 0.77. While not incredible, this does show there is a clear distinction between the two classes, and the model can somewhat tell this difference.\n",
    "\n",
    "#### Confusion Matrix\n",
    "From the confusion matrix, something interesting is the rate of false positives - the model is more likely to misclassify a false negative than a false positive. It never made a false positive claim - rather, it made about 24% of total classifications as false negatives, or <=50k."
   ]
  },
  {
   "cell_type": "markdown",
   "metadata": {},
   "source": [
    "## =========================================================="
   ]
  },
  {
   "cell_type": "markdown",
   "metadata": {},
   "source": [
    "### Naive Bayes\n",
    "#### Why I chose this algorithm\n",
    "Naive bayes are great for classifying large datasets with many features. Computationally, they are significantly faster than most other algorithms. Additionally, this takes a different approach - the assumption with \"naive\" bayes is that all features are independent. Most other algorithms, such as the neural network, look for patterns among features and classes, but this assumes total independence of each feature from one another.\n",
    "#### Pros\n",
    "* Fast\n",
    "* Simple to implement, fewer hyperparameters to tweak for best results\n",
    "* When assumption of independence holds true, classifies better than most models\n",
    "\n",
    "#### Cons\n",
    "* Due to less hyperparameters, more rigid to results - what you get is what you get\n",
    "* Anything in test data not in training data will be set to probability 0, and model will be unable to make a prediction for that class\n",
    "* Assumption of indendence is rarely true\n",
    "\n",
    "#### Improvements that could be made to my implementation\n",
    "* Instead of a naive bayes approach, spending time to implement a bayesian network instead where features are related to each other\n",
    "* Create a generative model for missing data, so model doesn't have to guess 0 if the data is missing"
   ]
  },
  {
   "cell_type": "code",
   "execution_count": 10,
   "metadata": {},
   "outputs": [],
   "source": [
    "from collections import defaultdict\n",
    "import math"
   ]
  },
  {
   "cell_type": "code",
   "execution_count": 11,
   "metadata": {},
   "outputs": [],
   "source": [
    "train_csv, test_csv = load_datasets()\n",
    "test_csv['class'] = pd.Categorical(test_csv['class'])\n",
    "test_csv['class'] = test_csv['class'].cat.codes\n",
    "test_y = tf.one_hot(test_csv.pop('class').to_numpy(), 2).numpy()"
   ]
  },
  {
   "cell_type": "code",
   "execution_count": 12,
   "metadata": {},
   "outputs": [],
   "source": [
    "#Gaussian distribution for a continuous variable given the mean, variance, and the value\n",
    "def get_continuous_probability(mean, var, val):\n",
    "    return 1/(math.sqrt(2*math.pi)*var) * math.e**-((val-mean)/var**2)\n",
    "\n",
    "#Get probabilities of a feature in a given dataset\n",
    "def get_dataset_probabilities(ds):\n",
    "    #Get # of rows in dataset\n",
    "    total = len(ds)\n",
    "    feature_probs = {}\n",
    "    \n",
    "    for col in ds:\n",
    "        #Don't want to count target col\n",
    "        if col == 'class':\n",
    "            continue\n",
    "\n",
    "        #If column is continuous, use Gaussian Distribution to get probability\n",
    "        if ds[col].dtype == np.dtype('int64'):\n",
    "            feature_probs[col] = {'mean': np.mean(ds[col]), 'var': np.var(ds[col])}#get_continuous_probability(ds[col])\n",
    "\n",
    "        #If column is object, count each item and divide by # of rows\n",
    "        elif ds[col].dtype == np.dtype('object'):\n",
    "            temp = ds[col].value_counts().to_dict()\n",
    "            for i in temp.keys():\n",
    "                temp[i] = temp[i]/total\n",
    "\n",
    "            feature_probs[col] = temp\n",
    "    \n",
    "    return feature_probs"
   ]
  },
  {
   "cell_type": "code",
   "execution_count": 13,
   "metadata": {},
   "outputs": [],
   "source": [
    "#Get class counts: get the total counts of each class, then divide by # of rows\n",
    "total = len(train_csv)\n",
    "class_probs = train_csv['class'].value_counts().to_dict()\n",
    "for i in class_probs.keys():\n",
    "    class_probs[i] = class_probs[i]/total\n",
    "\n",
    "#Feature counts\n",
    "feature_probs = get_dataset_probabilities(train_csv)\n",
    "#Features based on class\n",
    "feature_class_probs = {}\n",
    "for k in class_probs.keys():\n",
    "    #Just get the rows belonging to the specific class\n",
    "    current_class = train_csv.loc[train_csv['class'] == k]\n",
    "    feature_class_probs[k] = get_dataset_probabilities(current_class)\n",
    "    \n",
    "#Get list of keys for iteration\n",
    "key_list = list(feature_probs.keys())"
   ]
  },
  {
   "cell_type": "code",
   "execution_count": 14,
   "metadata": {},
   "outputs": [],
   "source": [
    "#Predict based on probabilities from prior cell\n",
    "results = []\n",
    "def test_dataset(ds):\n",
    "    total_right = 0\n",
    "    for i, row in ds.iterrows():\n",
    "        \n",
    "        #Iterate over each class to see which class has greatest probability\n",
    "        most_likely = defaultdict(float)\n",
    "        for cls in list(class_probs.keys()):\n",
    "            \n",
    "            #Reset likelihood and prior to 1\n",
    "            likelihood = 1\n",
    "            prior = 1\n",
    "\n",
    "            #Iterate over each column in row\n",
    "            for col_idx, item in enumerate(row):\n",
    "                #If item is the target class, ignore\n",
    "                if item in list(class_probs.keys()):\n",
    "                    continue\n",
    "                \n",
    "                #If int (continuous), get the probability with mean and variance\n",
    "                if type(item) == int:\n",
    "                    #Likelihood\n",
    "                    mean = feature_class_probs[cls][key_list[col_idx]]['mean']\n",
    "                    var = feature_class_probs[cls][key_list[col_idx]]['var']\n",
    "                    likelihood *= get_continuous_probability(mean, var, item)\n",
    "\n",
    "                    #Prior\n",
    "                    mean = feature_probs[key_list[col_idx]]['mean']\n",
    "                    var = feature_probs[key_list[col_idx]]['var']\n",
    "                    prior *= get_continuous_probability(mean, var, item)\n",
    "\n",
    "                #If str (object), get probability that was saved earlier\n",
    "                elif type(item) == str:\n",
    "                    #Key doesn't exist for that class\n",
    "                    try:\n",
    "                        likelihood *= feature_class_probs[cls][key_list[col_idx]][item]\n",
    "                    except KeyError:\n",
    "                        likelihood *= 0   \n",
    "                    prior = feature_probs[key_list[col_idx]][item]\n",
    "\n",
    "            most_likely[cls] = (likelihood * class_probs[cls]) / prior\n",
    "        results.append(list(most_likely.values()))\n",
    "        \n",
    "    return np.array(results)"
   ]
  },
  {
   "cell_type": "code",
   "execution_count": 15,
   "metadata": {},
   "outputs": [
    {
     "data": {
      "image/png": "[encoded data removed]",
      "text/plain": [
       "<Figure size 432x288 with 1 Axes>"
      ]
     },
     "metadata": {
      "needs_background": "light"
     },
     "output_type": "display_data"
    }
   ],
   "source": [
    "preds = test_dataset(test_csv)\n",
    "\n",
    "fpr, tpr, _ = roc_curve(test_y.ravel(), preds.ravel())\n",
    "roc_auc = auc(fpr, tpr)\n",
    "show_roc_curve(fpr, tpr, roc_auc)"
   ]
  },
  {
   "cell_type": "code",
   "execution_count": 16,
   "metadata": {},
   "outputs": [
    {
     "name": "stdout",
     "output_type": "stream",
     "text": [
      "Accuracy: 0.7638\n"
     ]
    },
    {
     "data": {
      "image/png": "[encoded data removed]",
      "text/plain": [
       "<Figure size 432x288 with 2 Axes>"
      ]
     },
     "metadata": {
      "needs_background": "light"
     },
     "output_type": "display_data"
    }
   ],
   "source": [
    "#Creating confusion matrix for proportion\n",
    "preds_onehot = np.zeros_like(preds)\n",
    "preds_onehot[np.arange(len(preds)), preds.argmax(1)] = 1\n",
    "create_confusion_matrix(preds_onehot, test_y)\n",
    "\n",
    "correct = 0\n",
    "for i in range(len(preds_onehot)):\n",
    "    if np.argmax(preds_onehot[i]) == np.argmax(test_y[i]):\n",
    "        correct+=1\n",
    "print('Accuracy: {0:.{1}f}'.format(correct/len(preds_onehot), 4))"
   ]
  },
  {
   "cell_type": "markdown",
   "metadata": {},
   "source": [
    "### Results of Naive Bayes\n",
    "Unfortunately, there is an issue with my math somewhere in here, as there are no classifications for >50k. Given more time, I would comb through and figure out where my issue was. Instead, I'll do an evaluation and implement another Naive Bayes algorithm using scikit.\n",
    "#### Evaluation\n",
    "From cell 17, running the evaluate function on the model with the test dataset shows an accuracy of 0.76, although that is only because there are ~76% <=50k rows.\n",
    "#### ROC Curve\n",
    "As show above with the ROC curve, we have an AUC of 0.80. Again, due to the fact that there are ~76% <=50k rows.\n",
    "\n",
    "#### Confusion Matrix\n",
    "This shows where the error is , as there are 0 positive guesses."
   ]
  },
  {
   "cell_type": "markdown",
   "metadata": {},
   "source": [
    "#### Due to the error in my math, let's take a look at how a functioning Naive Bayes algorithm will perform on this dataset"
   ]
  },
  {
   "cell_type": "code",
   "execution_count": 17,
   "metadata": {},
   "outputs": [
    {
     "data": {
      "image/png": "[encoded data removed]",
      "text/plain": [
       "<Figure size 432x288 with 1 Axes>"
      ]
     },
     "metadata": {
      "needs_background": "light"
     },
     "output_type": "display_data"
    }
   ],
   "source": [
    "from sklearn.naive_bayes import GaussianNB\n",
    "train_csv, test_csv = load_datasets()\n",
    "\n",
    "#Format datasets for fit\n",
    "train_csv = convert_to_discrete(train_csv)\n",
    "test_csv = convert_to_discrete(test_csv)\n",
    "train_y = train_csv.pop('class').to_numpy()\n",
    "train_x = train_csv.to_numpy()\n",
    "test_y = test_csv.pop('class').to_numpy()\n",
    "test_x = test_csv.to_numpy()\n",
    "\n",
    "#Create Gaussian Naive Bayues, fit, get the y-scores, and show ROC curve\n",
    "gnb = GaussianNB()\n",
    "gnb.fit(train_x, train_y)\n",
    "Y_gnb_score = gnb.predict_proba(test_x)\n",
    "fpr, tpr, _ = roc_curve(test_y, Y_gnb_score[:, 1])\n",
    "roc_auc = auc(fpr, tpr)\n",
    "show_roc_curve(fpr, tpr, roc_auc)"
   ]
  },
  {
   "cell_type": "code",
   "execution_count": 18,
   "metadata": {},
   "outputs": [
    {
     "name": "stdout",
     "output_type": "stream",
     "text": [
      "Accuracy: 0.7958\n"
     ]
    },
    {
     "data": {
      "text/plain": [
       "<matplotlib.axes._subplots.AxesSubplot at 0x1f97883dbb0>"
      ]
     },
     "execution_count": 18,
     "metadata": {},
     "output_type": "execute_result"
    },
    {
     "data": {
      "image/png": "[encoded data removed]",
      "text/plain": [
       "<Figure size 432x288 with 2 Axes>"
      ]
     },
     "metadata": {
      "needs_background": "light"
     },
     "output_type": "display_data"
    }
   ],
   "source": [
    "#Show confusion matrix\n",
    "preds = gnb.predict(test_x)\n",
    "\n",
    "#Onehot encoding for predictions\n",
    "preds_onehot = np.zeros((preds.size, preds.max()+1))\n",
    "preds_onehot[np.arange(preds.size),preds] = 1\n",
    "\n",
    "#Onehot encoding for test_y dataset\n",
    "test_y = test_y.flatten()\n",
    "test_y_onehot = np.zeros((test_y.size, test_y.max()+1))\n",
    "test_y_onehot[np.arange(test_y.size),test_y] = 1\n",
    "\n",
    "print('Accuracy: {0:.{1}f}'.format((preds == test_y).sum() / len(test_y), 4))\n",
    "create_confusion_matrix(preds_onehot, test_y_onehot)"
   ]
  },
  {
   "cell_type": "markdown",
   "metadata": {},
   "source": [
    "### Results of Naive Bayes from scikit\n",
    "Here we can see better results from a naive bayes algorithm.\n",
    "#### Evaluation\n",
    "From cell {}, running the evaluate function on the model with the test dataset shows an accuracy of 0.7958.\n",
    "#### ROC Curve\n",
    "As show above with the ROC curve, we have an AUC of 0.83.\n",
    "\n",
    "#### Confusion Matrix\n",
    "The confusion matrix shows the algorithm identifying significantly more items as >50k than my incorrect model."
   ]
  },
  {
   "cell_type": "markdown",
   "metadata": {},
   "source": [
    "## =========================================================="
   ]
  },
  {
   "cell_type": "markdown",
   "metadata": {},
   "source": [
    "### Support vector Machines\n",
    "#### Why I chose this algorithm\n",
    "Support Vector Machiones work well when there are clear separations between classes. Additionally, SVM's are more effective in high-dimensional spaces.\n",
    "\n",
    "#### Pros\n",
    "* Effective in higher dimensions\n",
    "* Great when classes are separable\n",
    "* Outliers have less impact\n",
    "\n",
    "#### Cons\n",
    "* Very slow\n",
    "* The more overlap classes have, the worse the performance\n",
    "* Selecting hyperparameters and kernel functions can be difficult\n",
    "\n",
    "#### Improvements that could be made to my implementation\n",
    "* Due to time constraints, I went with scikit's built in SVM. Given time, I'd be able to fiddle around with this more and pick the best options for this SVM\n",
    "* This one is just a time constraint, but due to the time SVM's take to train, include more samples in the fitting method. I let this run for about 30 minutes at the full training set before I decided to move on."
   ]
  },
  {
   "cell_type": "code",
   "execution_count": 24,
   "metadata": {},
   "outputs": [],
   "source": [
    "train_csv, test_csv = load_datasets()\n",
    "\n",
    "#Convert object columns to discrete numerical values\n",
    "train_csv = convert_to_discrete(train_csv)\n",
    "test_csv = convert_to_discrete(test_csv)"
   ]
  },
  {
   "cell_type": "code",
   "execution_count": 25,
   "metadata": {},
   "outputs": [
    {
     "name": "stdout",
     "output_type": "stream",
     "text": [
      "\n",
      "Accuracy: 0.4264\n"
     ]
    }
   ],
   "source": [
    "from sklearn.svm import SVC\n",
    "from sklearn.metrics import accuracy_score\n",
    "\n",
    "#Get a random sample of 0.1 (1/10th) of each dataset\n",
    "train_csv = train_csv.sample(frac=0.1)\n",
    "test_csv = train_csv.sample(frac=0.1)\n",
    "\n",
    "size = 10\n",
    "train_y = train_csv.pop('class').to_list()[:size]\n",
    "train_x = train_csv.values.tolist()[:size]\n",
    "\n",
    "test_y = test_csv.pop('class').to_list()\n",
    "test_x = test_csv.values.tolist()\n",
    "\n",
    "svm = SVC(kernel='linear', probability=True)\n",
    "svm.fit(train_x,train_y)\n",
    "preds = svm.predict(test_x)\n",
    "print()\n",
    "print('Accuracy: {0:.{1}f}'.format(accuracy_score(test_y, preds), 4))"
   ]
  },
  {
   "cell_type": "code",
   "execution_count": 26,
   "metadata": {},
   "outputs": [
    {
     "data": {
      "image/png": "[encoded data removed]",
      "text/plain": [
       "<Figure size 432x288 with 1 Axes>"
      ]
     },
     "metadata": {
      "needs_background": "light"
     },
     "output_type": "display_data"
    }
   ],
   "source": [
    "#Create AUROC\n",
    "Y_svm_score = svm.predict_proba(test_x)\n",
    "fpr, tpr, _ = roc_curve(test_y, Y_svm_score[:, 1])\n",
    "roc_auc = auc(fpr, tpr)\n",
    "show_roc_curve(fpr, tpr, roc_auc)"
   ]
  },
  {
   "cell_type": "code",
   "execution_count": 27,
   "metadata": {},
   "outputs": [
    {
     "data": {
      "text/plain": [
       "<matplotlib.axes._subplots.AxesSubplot at 0x1f967586d30>"
      ]
     },
     "execution_count": 27,
     "metadata": {},
     "output_type": "execute_result"
    },
    {
     "data": {
      "image/png": "[encoded data removed]",
      "text/plain": [
       "<Figure size 432x288 with 2 Axes>"
      ]
     },
     "metadata": {
      "needs_background": "light"
     },
     "output_type": "display_data"
    }
   ],
   "source": [
    "#Show confusion matrix\n",
    "preds = np.array(preds)\n",
    "\n",
    "#Onehot encoding for predictions\n",
    "preds_onehot = np.zeros((preds.size, preds.max()+1))\n",
    "preds_onehot[np.arange(preds.size),preds] = 1\n",
    "\n",
    "#Onehot encoding for test_y dataset\n",
    "test_y = np.array(test_y)\n",
    "test_y_onehot = np.zeros((test_y.size, test_y.max()+1))\n",
    "test_y_onehot[np.arange(test_y.size),test_y] = 1\n",
    "\n",
    "create_confusion_matrix(preds_onehot, test_y_onehot)"
   ]
  },
  {
   "cell_type": "markdown",
   "metadata": {},
   "source": [
    "### Results of Support Vector Machines\n",
    "Answers here are based on the size of datasets from cell {} - currently, only 1/10 of the dataset is used to train for time purposes.\n",
    "\n",
    "#### Evaluation\n",
    "From cell {}, running the evaluate function on the model with the test dataset shows an accuracy of {}.\n",
    "\n",
    "#### ROC Curve\n",
    "As show above with the ROC curve, we have an AUC of {}.\n",
    "\n",
    "#### Confusion Matrix\n",
    "{}"
   ]
  }
 ],
 "metadata": {
  "kernelspec": {
   "display_name": "Python 3",
   "language": "python",
   "name": "python3"
  },
  "language_info": {
   "codemirror_mode": {
    "name": "ipython",
    "version": 3
   },
   "file_extension": ".py",
   "mimetype": "text/x-python",
   "name": "python",
   "nbconvert_exporter": "python",
   "pygments_lexer": "ipython3",
   "version": "3.8.2"
  }
 },
 "nbformat": 4,
 "nbformat_minor": 4
}
